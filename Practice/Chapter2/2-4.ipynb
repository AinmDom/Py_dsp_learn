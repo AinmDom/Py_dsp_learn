{
 "cells": [
  {
   "cell_type": "code",
   "id": "initial_id",
   "metadata": {
    "collapsed": true
   },
   "source": [
    "import numpy as np\n",
    "from scipy import signal\n",
    "import matplotlib.pyplot as plt\n",
    "from IPython.display import Audio\n",
    "\n",
    "# 设置中文字体\n",
    "plt.rcParams[\"font.family\"] = [\"SimHei\",\"Times New Roman\"]  # 使用系统中存在的字体（可叠加）\n",
    "\n",
    "# 三角波信号\n",
    "duration = 0.01       # 信号持续时间（秒）\n",
    "sample_rate = 44100 # 采样率（Hz）\n",
    "base_freq = 440      # 频率\n",
    "amplitude = 1      # 振幅\n",
    "\n",
    "# 生成时间序列\n",
    "t = np.linspace(0, duration, int(sample_rate * duration), endpoint=False)\n",
    "# 生成信号\n",
    "tri_signal = amplitude * signal.sawtooth(2*np.pi*base_freq*t, 0.5)\n",
    "\n",
    "plt.figure(figsize=(18, 6))\n",
    "plt.plot(t, tri_signal)\n",
    "plt.title('triangle')\n",
    "plt.xlabel('Time (s)')\n",
    "plt.ylabel('Amplitude')\n",
    "\n",
    "plt.show()"
   ],
   "outputs": [],
   "execution_count": null
  },
  {
   "metadata": {},
   "cell_type": "code",
   "source": [
    "# 频谱\n",
    "n_fft = 1000 # FFT窗口大小\n",
    "tri_spec = np.fft.rfft(tri_signal+0.5, n=n_fft)  # 加直流偏离，对应频谱上f=0的值\n",
    "amplitude = np.abs(tri_spec)  # 幅度谱\n",
    "frequency = np.fft.rfftfreq(n_fft, d=1/sample_rate)  # 频率轴\n",
    "\n",
    "# 绘制幅度谱\n",
    "plt.figure(figsize=(18, 6))\n",
    "plt.plot(frequency, amplitude)\n",
    "plt.title('幅度谱（FFT）')\n",
    "plt.xlabel('频率 (Hz)')\n",
    "plt.ylabel('幅度')\n",
    "plt.grid(True)\n",
    "plt.xlim(0, sample_rate/2)\n",
    "plt.show()"
   ],
   "id": "445f3aa138ef4c81",
   "outputs": [],
   "execution_count": null
  },
  {
   "metadata": {},
   "cell_type": "markdown",
   "source": "零频分量是信号幅度的总和，即直流偏置；对一个n点的周期信号，若零频分量等于hs0，那么信号整体的偏置offset = hs0/n",
   "id": "92abb6319c136ce"
  }
 ],
 "metadata": {
  "kernelspec": {
   "display_name": "Python 3",
   "language": "python",
   "name": "python3"
  },
  "language_info": {
   "codemirror_mode": {
    "name": "ipython",
    "version": 2
   },
   "file_extension": ".py",
   "mimetype": "text/x-python",
   "name": "python",
   "nbconvert_exporter": "python",
   "pygments_lexer": "ipython2",
   "version": "2.7.6"
  }
 },
 "nbformat": 4,
 "nbformat_minor": 5
}
